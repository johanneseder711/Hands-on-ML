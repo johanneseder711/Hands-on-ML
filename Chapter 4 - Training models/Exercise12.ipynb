{
 "cells": [
  {
   "cell_type": "markdown",
   "id": "febef967-c08f-4142-b920-589f0500953a",
   "metadata": {},
   "source": [
    "# Exercise Description"
   ]
  },
  {
   "cell_type": "markdown",
   "id": "f44ee6fa-7152-413d-a6b4-4e845dbc40b8",
   "metadata": {},
   "source": [
    "Implement Batch Gradient Descent with early stopping for Softmax Regression (without using Scikit-Learn)."
   ]
  },
  {
   "cell_type": "markdown",
   "id": "8cbfbfb0-db69-45cd-b794-93df0cc716ca",
   "metadata": {},
   "source": [
    "# Imports"
   ]
  },
  {
   "cell_type": "code",
   "execution_count": 61,
   "id": "06380f11-5c75-493c-b86a-ccb41ac018ff",
   "metadata": {},
   "outputs": [],
   "source": [
    "import numpy as np\n",
    "import matplotlib.pyplot as plt\n",
    "from sklearn import datasets"
   ]
  },
  {
   "cell_type": "code",
   "execution_count": 63,
   "id": "e2cdb676-8ef0-4a1a-91b5-504525360c33",
   "metadata": {},
   "outputs": [],
   "source": [
    "iris = datasets.load_iris()"
   ]
  },
  {
   "cell_type": "code",
   "execution_count": 66,
   "id": "051e7865-3ffd-46a5-8ae3-418d4a6317d5",
   "metadata": {},
   "outputs": [
    {
     "data": {
      "text/plain": [
       "dict_keys(['data', 'target', 'frame', 'target_names', 'DESCR', 'feature_names', 'filename', 'data_module'])"
      ]
     },
     "execution_count": 66,
     "metadata": {},
     "output_type": "execute_result"
    }
   ],
   "source": [
    "iris.keys()"
   ]
  },
  {
   "cell_type": "code",
   "execution_count": 67,
   "id": "8eeacb8d-b8b2-42a8-badc-400e331d13ba",
   "metadata": {},
   "outputs": [],
   "source": [
    "X = iris['data']\n",
    "y = iris['target']"
   ]
  },
  {
   "cell_type": "markdown",
   "id": "b2cd6c81-3293-4ecc-a18f-3e7abed334f2",
   "metadata": {},
   "source": [
    "# Strategy"
   ]
  },
  {
   "cell_type": "markdown",
   "id": "0162678d-f3b2-4348-940c-3048ef9f9f6d",
   "metadata": {},
   "source": [
    "## Implement Batch GD"
   ]
  },
  {
   "cell_type": "markdown",
   "id": "7d119c09-b6b0-4a0b-81fc-b71c9090ed1d",
   "metadata": {},
   "source": [
    "What do we need to do to make this work?\n",
    "1. Construct a simple Softmax Regression Model\n",
    "2. Feed the Model the whole dataset (That what Batch means)\n",
    "3. Measure the Error that we made with some loss function\n",
    "4. Compute the Gradient of the loss w.r.t. the weights\n",
    "5. Adjust the weights\n",
    "6. Repeat from step 1"
   ]
  },
  {
   "cell_type": "markdown",
   "id": "d0c0d343-80d3-4c69-97cb-71db57c363fa",
   "metadata": {},
   "source": [
    "# Picking a single training instance to understand things in detail"
   ]
  },
  {
   "cell_type": "code",
   "execution_count": 75,
   "id": "53d3f232-f9f2-4902-9991-0d24ac789cca",
   "metadata": {},
   "outputs": [
    {
     "data": {
      "text/plain": [
       "((4,), array([5.1, 3.5, 1.4, 0.2]))"
      ]
     },
     "execution_count": 75,
     "metadata": {},
     "output_type": "execute_result"
    }
   ],
   "source": [
    "instance = X[0]\n",
    "instance.shape, instance"
   ]
  },
  {
   "cell_type": "code",
   "execution_count": 76,
   "id": "e87128fa-3b38-4d4c-8de3-bc7e0765eb98",
   "metadata": {},
   "outputs": [
    {
     "data": {
      "text/plain": [
       "4"
      ]
     },
     "execution_count": 76,
     "metadata": {},
     "output_type": "execute_result"
    }
   ],
   "source": [
    "len(instance)"
   ]
  },
  {
   "cell_type": "code",
   "execution_count": 77,
   "id": "f86dcec8-6849-4fc4-9e40-064eecc41b72",
   "metadata": {},
   "outputs": [],
   "source": [
    "# for one instance we create the parameter vector, initialize it by random weights\n",
    "theta_k = np.random.normal(0, 0.01, len(instance)+1)"
   ]
  },
  {
   "cell_type": "code",
   "execution_count": 78,
   "id": "5a071a08-b116-46fe-8751-73788af3369e",
   "metadata": {},
   "outputs": [
    {
     "data": {
      "text/plain": [
       "array([-0.00942371,  0.00548665,  0.0047317 , -0.01431579,  0.01208888])"
      ]
     },
     "execution_count": 78,
     "metadata": {},
     "output_type": "execute_result"
    }
   ],
   "source": [
    "theta_k"
   ]
  },
  {
   "cell_type": "markdown",
   "id": "b7d3a4a3-d3cb-4990-9fb1-1610ba482ded",
   "metadata": {},
   "source": [
    "# Implementation of the algorithm"
   ]
  },
  {
   "cell_type": "code",
   "execution_count": 88,
   "id": "075cc023-add9-4094-90ee-68892c1e527c",
   "metadata": {},
   "outputs": [
    {
     "data": {
      "text/plain": [
       "(150, 4)"
      ]
     },
     "execution_count": 88,
     "metadata": {},
     "output_type": "execute_result"
    }
   ],
   "source": [
    "X.shape"
   ]
  },
  {
   "cell_type": "code",
   "execution_count": 89,
   "id": "9bf8f00c-1723-4779-8b48-63504b43ac83",
   "metadata": {},
   "outputs": [],
   "source": [
    "eta = 0.1 # learning rate\n",
    "n_epochs = 100 # number of training iterations\n",
    "m = len(X) # number of training examples\n",
    "n = X.shape[1] # number of features\n",
    "k = len(y)\n",
    "\n",
    "# random initialization of the \n",
    "theta = np.random.randn(k,n+1) # n+1 wegen bias term\n"
   ]
  },
  {
   "cell_type": "code",
   "execution_count": 92,
   "id": "fe4031dc-4f6e-4013-bd29-c927cebb1706",
   "metadata": {},
   "outputs": [
    {
     "data": {
      "text/plain": [
       "((5,),\n",
       " array([-0.36455559, -0.97215064,  0.18071521, -0.50769856,  0.55223358]))"
      ]
     },
     "execution_count": 92,
     "metadata": {},
     "output_type": "execute_result"
    }
   ],
   "source": [
    "theta[0].shape, theta[0]"
   ]
  },
  {
   "cell_type": "code",
   "execution_count": 96,
   "id": "9927de0f-9dfd-47bd-978a-84376ee3637e",
   "metadata": {},
   "outputs": [],
   "source": [
    "import pandas as pd"
   ]
  },
  {
   "cell_type": "code",
   "execution_count": 103,
   "id": "534f1213-75cf-48db-968b-3df0df541731",
   "metadata": {},
   "outputs": [],
   "source": [
    "y_reshaped = pd.get_dummies(y).to_numpy()"
   ]
  },
  {
   "cell_type": "code",
   "execution_count": 108,
   "id": "7004ba83-92ed-4315-97c0-67e891d195dc",
   "metadata": {},
   "outputs": [
    {
     "data": {
      "text/plain": [
       "(150, 3)"
      ]
     },
     "execution_count": 108,
     "metadata": {},
     "output_type": "execute_result"
    }
   ],
   "source": [
    "y_reshaped.shape"
   ]
  },
  {
   "cell_type": "code",
   "execution_count": null,
   "id": "a597b44b-8c17-40b5-9743-204cd0bfb6dd",
   "metadata": {},
   "outputs": [],
   "source": []
  },
  {
   "cell_type": "code",
   "execution_count": null,
   "id": "e4b1be2f-36a3-47f8-84b0-9700874b9ec5",
   "metadata": {},
   "outputs": [],
   "source": [
    "for epoch in range(n_epochs):\n",
    "    print(f'Currently training in epoch {epoch}]')\n",
    "    gradients = 1/m * np.sum()"
   ]
  }
 ],
 "metadata": {
  "kernelspec": {
   "display_name": "Python 3 (ipykernel)",
   "language": "python",
   "name": "python3"
  },
  "language_info": {
   "codemirror_mode": {
    "name": "ipython",
    "version": 3
   },
   "file_extension": ".py",
   "mimetype": "text/x-python",
   "name": "python",
   "nbconvert_exporter": "python",
   "pygments_lexer": "ipython3",
   "version": "3.9.5"
  }
 },
 "nbformat": 4,
 "nbformat_minor": 5
}
