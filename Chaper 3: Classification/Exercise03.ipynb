{
 "cells": [
  {
   "cell_type": "markdown",
   "id": "07e86dc4-3d56-4c27-ad38-8a0d1f84edce",
   "metadata": {},
   "source": [
    "# Exercise Description"
   ]
  },
  {
   "cell_type": "markdown",
   "id": "981ddb74-8205-49d8-b256-c654b9669c89",
   "metadata": {},
   "source": [
    "Tackle the **Titanic dataset**. A great place to start is on [Kaggle](www.kaggle.com)."
   ]
  },
  {
   "cell_type": "code",
   "execution_count": null,
   "id": "c7ab2748-293d-4a03-b761-a53e9760c9f4",
   "metadata": {},
   "outputs": [],
   "source": []
  }
 ],
 "metadata": {
  "kernelspec": {
   "display_name": "Python 3 (ipykernel)",
   "language": "python",
   "name": "python3"
  },
  "language_info": {
   "codemirror_mode": {
    "name": "ipython",
    "version": 3
   },
   "file_extension": ".py",
   "mimetype": "text/x-python",
   "name": "python",
   "nbconvert_exporter": "python",
   "pygments_lexer": "ipython3",
   "version": "3.9.5"
  },
  "toc-autonumbering": false,
  "toc-showcode": true
 },
 "nbformat": 4,
 "nbformat_minor": 5
}
