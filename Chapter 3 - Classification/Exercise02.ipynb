{
 "cells": [
  {
   "cell_type": "markdown",
   "id": "d7f305bf-fdfd-444c-bb70-902a0da53739",
   "metadata": {},
   "source": [
    "# Exercise Description"
   ]
  },
  {
   "cell_type": "markdown",
   "id": "09fe4e2c-2771-434d-8622-19dd9aa205d5",
   "metadata": {},
   "source": [
    "Write a function that can shift an MNIST image in any direction (left, right, up or down) by one pixel.$^5$ Then, for each image in the training set, create four shifted copies (one per direction) and add them to the training set. Finally, train your best model on this expanded training set and measure its accuracy on the test set. You should observe that your model performs even better now! This technique of artificially growing the training set is called *data augmentation* or *training set expansion*."
   ]
  },
  {
   "cell_type": "markdown",
   "id": "29c769da-9195-42d0-9174-a3cf6c864bd9",
   "metadata": {},
   "source": [
    ">$^5$ You can use the `shift()` function from the `scipy.dnimage.interplation` module. For example, `shift(image, [2,1], cval=0)`shifts the image two pixels down and one pixel to the right"
   ]
  },
  {
   "cell_type": "markdown",
   "id": "be01cf0a-139b-4420-93d2-00a1a9233449",
   "metadata": {},
   "source": [
    "# Imports"
   ]
  },
  {
   "cell_type": "code",
   "execution_count": 2,
   "id": "0cfec886-c7d1-4161-bfe2-5e3c32c696d8",
   "metadata": {},
   "outputs": [],
   "source": [
    "# for shifting the image\n",
    "from scipy.ndimage import shift\n",
    "\n",
    "# mnist dataset load\n",
    "from sklearn.datasets import fetch_openml\n",
    "\n",
    "# import from the other notebook\n",
    "import nbimporter\n",
    "#from Exercise01 import plot_random_image\n",
    "\n",
    "# plot image\n",
    "import matplotlib.pyplot as plt"
   ]
  },
  {
   "cell_type": "markdown",
   "id": "595ef18b-2911-4e4f-9b79-c8cab324375b",
   "metadata": {},
   "source": [
    "# Create the function"
   ]
  },
  {
   "cell_type": "code",
   "execution_count": 3,
   "id": "2a311900-adaa-4ef4-b759-2ee7896cb12a",
   "metadata": {},
   "outputs": [],
   "source": [
    "def shift_images(img,shift_down=0, shift_right=0):\n",
    "    \"\"\"\n",
    "        Function that shifts an input image by an amount of pixels to the left, right, up or down.\n",
    "    \"\"\"\n",
    "    return(shift(img,[shift_down,shift_right]).astype(int))"
   ]
  },
  {
   "cell_type": "code",
   "execution_count": 4,
   "id": "b544ca75-0522-4604-b10c-c8ff20694374",
   "metadata": {},
   "outputs": [],
   "source": [
    "def get_shifted_images(img,shift_by=1):\n",
    "    \"\"\"\n",
    "        Function that returns 4 shifted version of the passed image, #shift pixel shifted in each direction\n",
    "    \"\"\"\n",
    "    return([shift(img,[shift_by,0]).astype(int),\n",
    "           shift(img,[0,shift_by]).astype(int),\n",
    "           shift(img,[-shift_by,0]).astype(int),\n",
    "           shift(img,[0,-shift_by]).astype(int)])"
   ]
  },
  {
   "cell_type": "markdown",
   "id": "7b5dac9c-a964-481e-9c82-defa48b4ecbf",
   "metadata": {},
   "source": [
    "# Load the data"
   ]
  },
  {
   "cell_type": "code",
   "execution_count": 1,
   "id": "ea31ec92-b9fa-485a-a7d8-c1ee711116ae",
   "metadata": {},
   "outputs": [
    {
     "ename": "NameError",
     "evalue": "name 'fetch_openml' is not defined",
     "output_type": "error",
     "traceback": [
      "\u001b[0;31m---------------------------------------------------------------------------\u001b[0m",
      "\u001b[0;31mNameError\u001b[0m                                 Traceback (most recent call last)",
      "Input \u001b[0;32mIn [1]\u001b[0m, in \u001b[0;36m<module>\u001b[0;34m\u001b[0m\n\u001b[0;32m----> 1\u001b[0m mnist \u001b[38;5;241m=\u001b[39m \u001b[43mfetch_openml\u001b[49m(\u001b[38;5;124m'\u001b[39m\u001b[38;5;124mmnist_784\u001b[39m\u001b[38;5;124m'\u001b[39m)\n",
      "\u001b[0;31mNameError\u001b[0m: name 'fetch_openml' is not defined"
     ]
    }
   ],
   "source": [
    "mnist = fetch_openml('mnist_784')"
   ]
  },
  {
   "cell_type": "markdown",
   "id": "c81965db-7c05-4186-9848-56c0ad476632",
   "metadata": {},
   "source": [
    "# Set the data"
   ]
  },
  {
   "cell_type": "code",
   "execution_count": 157,
   "id": "abb59aa9-801f-4120-bf98-bb1f97db0ba2",
   "metadata": {},
   "outputs": [],
   "source": [
    "X = mnist.data\n",
    "y = mnist.target"
   ]
  },
  {
   "cell_type": "code",
   "execution_count": 61,
   "id": "0275f9c9-bd2b-478b-8a65-aaadc336e439",
   "metadata": {},
   "outputs": [
    {
     "data": {
      "image/png": "[encoded data removed]",
      "text/plain": [
       "<Figure size 720x504 with 5 Axes>"
      ]
     },
     "metadata": {
      "needs_background": "light"
     },
     "output_type": "display_data"
    }
   ],
   "source": [
    "plot_random_image(X.iloc[:5],y[:5],5)"
   ]
  },
  {
   "cell_type": "markdown",
   "id": "aba4c7de-2541-4a04-939b-ffe8bf753d70",
   "metadata": {},
   "source": [
    "# Check function is working"
   ]
  },
  {
   "cell_type": "code",
   "execution_count": 108,
   "id": "3d807f3f-80f1-4f6e-9def-72eaecee1736",
   "metadata": {},
   "outputs": [],
   "source": [
    "shift_image = X.iloc[0].values.reshape(28,28)"
   ]
  },
  {
   "cell_type": "code",
   "execution_count": 118,
   "id": "3bf16586-cb7b-42e2-9b5d-45ad47de9b27",
   "metadata": {},
   "outputs": [],
   "source": [
    "shifted_image = shift_images(shift_image,shift_down=-5,shift_right=5)"
   ]
  },
  {
   "cell_type": "code",
   "execution_count": 126,
   "id": "7fb45bd2-2860-4090-867e-90669ab0bb89",
   "metadata": {},
   "outputs": [
    {
     "data": {
      "image/png": "[encoded data removed]",
      "text/plain": [
       "<Figure size 432x288 with 2 Axes>"
      ]
     },
     "metadata": {
      "needs_background": "light"
     },
     "output_type": "display_data"
    }
   ],
   "source": [
    "# check if the shift function works\n",
    "fig, (ax1,ax2) = plt.subplots(1,2)\n",
    "ax1.imshow(shift_image)\n",
    "ax1.set_title('original image')\n",
    "ax1.axis(False)\n",
    "ax2.imshow(shifted_image)\n",
    "ax2.set_title('shifted image')\n",
    "ax2.axis(False)\n",
    "plt.show()"
   ]
  }
 ],
 "metadata": {
  "kernelspec": {
   "display_name": "Python 3 (ipykernel)",
   "language": "python",
   "name": "python3"
  },
  "language_info": {
   "codemirror_mode": {
    "name": "ipython",
    "version": 3
   },
   "file_extension": ".py",
   "mimetype": "text/x-python",
   "name": "python",
   "nbconvert_exporter": "python",
   "pygments_lexer": "ipython3",
   "version": "3.9.5"
  }
 },
 "nbformat": 4,
 "nbformat_minor": 5
}
