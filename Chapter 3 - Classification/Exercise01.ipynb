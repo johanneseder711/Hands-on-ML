{
 "cells": [
  {
   "cell_type": "markdown",
   "id": "52eaf0b8-7fb2-4114-aa34-c22276945a91",
   "metadata": {},
   "source": [
    "# Exercise Description"
   ]
  },
  {
   "cell_type": "markdown",
   "id": "ecc73ae6-de38-4536-89f4-186709a70213",
   "metadata": {},
   "source": [
    "Try to build a classifier for the MNIST dataset that achieves over 97% accuaracy on the test set. \n",
    "> **Hint:** the *KNeighborsClassifier* works queite well for this task; you just need to find good hyperparameter values (try a gird search on the `weights` and `n_neighbors`hyperaparameters)."
   ]
  },
  {
   "cell_type": "markdown",
   "id": "2b2bca01-30c5-4579-ae11-e9c51ad4e856",
   "metadata": {},
   "source": [
    "# Imports"
   ]
  },
  {
   "cell_type": "code",
   "execution_count": 1,
   "id": "76d677a5-2512-43f3-9b18-ff6489006531",
   "metadata": {},
   "outputs": [],
   "source": [
    "# mnist dataset load\n",
    "from sklearn.datasets import fetch_openml\n",
    "\n",
    "# showing images\n",
    "import matplotlib.pyplot as plt\n",
    "\n",
    "# for array handling\n",
    "import numpy as np\n",
    "\n",
    "# for getting random integer number\n",
    "import random\n",
    "\n",
    "# for creating train and testsplits\n",
    "from sklearn.model_selection import train_test_split\n",
    "\n",
    "# import the classifier\n",
    "from sklearn.neighbors import KNeighborsClassifier as knc\n",
    "\n",
    "# for hyperparamter tuning\n",
    "from sklearn.model_selection import GridSearchCV\n",
    "\n",
    "# import function for data augementation from Exercise02.ipynb\n",
    "import nbimporter\n",
    "#from Exercise02 import get_shifted_images\n",
    "\n",
    "# import pandas for dataframe\n",
    "import pandas as pd"
   ]
  },
  {
   "cell_type": "markdown",
   "id": "83838ac7-3a19-4d50-a692-498c73b3910f",
   "metadata": {},
   "source": [
    "# Load the MNIST Dataset"
   ]
  },
  {
   "cell_type": "code",
   "execution_count": 2,
   "id": "b43a0f90-683e-42b1-91b9-1994e216d84a",
   "metadata": {},
   "outputs": [],
   "source": [
    "mnist = fetch_openml('mnist_784')"
   ]
  },
  {
   "cell_type": "code",
   "execution_count": 3,
   "id": "54ae1779-6729-415b-9691-a6c11130a763",
   "metadata": {},
   "outputs": [
    {
     "data": {
      "text/plain": [
       "dict_keys(['data', 'target', 'frame', 'categories', 'feature_names', 'target_names', 'DESCR', 'details', 'url'])"
      ]
     },
     "execution_count": 3,
     "metadata": {},
     "output_type": "execute_result"
    }
   ],
   "source": [
    "mnist.keys()"
   ]
  },
  {
   "cell_type": "code",
   "execution_count": 4,
   "id": "913dd855-f0f5-4e7a-8b72-ffca7b421738",
   "metadata": {},
   "outputs": [],
   "source": [
    "X = mnist.data\n",
    "y = mnist.target"
   ]
  },
  {
   "cell_type": "markdown",
   "id": "57ace4a4-cf23-49f4-b314-91620aa4278f",
   "metadata": {},
   "source": [
    "# Explore the data"
   ]
  },
  {
   "cell_type": "code",
   "execution_count": 5,
   "id": "b0e0f8a7-ea8b-417d-a062-031e27a13812",
   "metadata": {},
   "outputs": [
    {
     "data": {
      "text/plain": [
       "((70000, 784), (70000,))"
      ]
     },
     "execution_count": 5,
     "metadata": {},
     "output_type": "execute_result"
    }
   ],
   "source": [
    "X.shape, y.shape"
   ]
  },
  {
   "cell_type": "code",
   "execution_count": 6,
   "id": "1a2dbf21-3e42-4632-855b-a0e50b089ed4",
   "metadata": {},
   "outputs": [
    {
     "data": {
      "text/plain": [
       "pandas.core.frame.DataFrame"
      ]
     },
     "execution_count": 6,
     "metadata": {},
     "output_type": "execute_result"
    }
   ],
   "source": [
    "type(X)"
   ]
  },
  {
   "cell_type": "code",
   "execution_count": 7,
   "id": "49a4c771-d90a-46be-b57b-310fa6a926fb",
   "metadata": {},
   "outputs": [
    {
     "data": {
      "text/plain": [
       "pandas.core.series.Series"
      ]
     },
     "execution_count": 7,
     "metadata": {},
     "output_type": "execute_result"
    }
   ],
   "source": [
    "type(y)"
   ]
  },
  {
   "cell_type": "code",
   "execution_count": 8,
   "id": "0105e261-bbc0-4e3d-8650-88cc05301879",
   "metadata": {},
   "outputs": [
    {
     "data": {
      "text/html": [
       "<div>\n",
       "<style scoped>\n",
       "    .dataframe tbody tr th:only-of-type {\n",
       "        vertical-align: middle;\n",
       "    }\n",
       "\n",
       "    .dataframe tbody tr th {\n",
       "        vertical-align: top;\n",
       "    }\n",
       "\n",
       "    .dataframe thead th {\n",
       "        text-align: right;\n",
       "    }\n",
       "</style>\n",
       "<table border=\"1\" class=\"dataframe\">\n",
       "  <thead>\n",
       "    <tr style=\"text-align: right;\">\n",
       "      <th></th>\n",
       "      <th>pixel1</th>\n",
       "      <th>pixel2</th>\n",
       "      <th>pixel3</th>\n",
       "      <th>pixel4</th>\n",
       "      <th>pixel5</th>\n",
       "      <th>pixel6</th>\n",
       "      <th>pixel7</th>\n",
       "      <th>pixel8</th>\n",
       "      <th>pixel9</th>\n",
       "      <th>pixel10</th>\n",
       "      <th>...</th>\n",
       "      <th>pixel775</th>\n",
       "      <th>pixel776</th>\n",
       "      <th>pixel777</th>\n",
       "      <th>pixel778</th>\n",
       "      <th>pixel779</th>\n",
       "      <th>pixel780</th>\n",
       "      <th>pixel781</th>\n",
       "      <th>pixel782</th>\n",
       "      <th>pixel783</th>\n",
       "      <th>pixel784</th>\n",
       "    </tr>\n",
       "  </thead>\n",
       "  <tbody>\n",
       "    <tr>\n",
       "      <th>0</th>\n",
       "      <td>0.0</td>\n",
       "      <td>0.0</td>\n",
       "      <td>0.0</td>\n",
       "      <td>0.0</td>\n",
       "      <td>0.0</td>\n",
       "      <td>0.0</td>\n",
       "      <td>0.0</td>\n",
       "      <td>0.0</td>\n",
       "      <td>0.0</td>\n",
       "      <td>0.0</td>\n",
       "      <td>...</td>\n",
       "      <td>0.0</td>\n",
       "      <td>0.0</td>\n",
       "      <td>0.0</td>\n",
       "      <td>0.0</td>\n",
       "      <td>0.0</td>\n",
       "      <td>0.0</td>\n",
       "      <td>0.0</td>\n",
       "      <td>0.0</td>\n",
       "      <td>0.0</td>\n",
       "      <td>0.0</td>\n",
       "    </tr>\n",
       "    <tr>\n",
       "      <th>1</th>\n",
       "      <td>0.0</td>\n",
       "      <td>0.0</td>\n",
       "      <td>0.0</td>\n",
       "      <td>0.0</td>\n",
       "      <td>0.0</td>\n",
       "      <td>0.0</td>\n",
       "      <td>0.0</td>\n",
       "      <td>0.0</td>\n",
       "      <td>0.0</td>\n",
       "      <td>0.0</td>\n",
       "      <td>...</td>\n",
       "      <td>0.0</td>\n",
       "      <td>0.0</td>\n",
       "      <td>0.0</td>\n",
       "      <td>0.0</td>\n",
       "      <td>0.0</td>\n",
       "      <td>0.0</td>\n",
       "      <td>0.0</td>\n",
       "      <td>0.0</td>\n",
       "      <td>0.0</td>\n",
       "      <td>0.0</td>\n",
       "    </tr>\n",
       "    <tr>\n",
       "      <th>2</th>\n",
       "      <td>0.0</td>\n",
       "      <td>0.0</td>\n",
       "      <td>0.0</td>\n",
       "      <td>0.0</td>\n",
       "      <td>0.0</td>\n",
       "      <td>0.0</td>\n",
       "      <td>0.0</td>\n",
       "      <td>0.0</td>\n",
       "      <td>0.0</td>\n",
       "      <td>0.0</td>\n",
       "      <td>...</td>\n",
       "      <td>0.0</td>\n",
       "      <td>0.0</td>\n",
       "      <td>0.0</td>\n",
       "      <td>0.0</td>\n",
       "      <td>0.0</td>\n",
       "      <td>0.0</td>\n",
       "      <td>0.0</td>\n",
       "      <td>0.0</td>\n",
       "      <td>0.0</td>\n",
       "      <td>0.0</td>\n",
       "    </tr>\n",
       "    <tr>\n",
       "      <th>3</th>\n",
       "      <td>0.0</td>\n",
       "      <td>0.0</td>\n",
       "      <td>0.0</td>\n",
       "      <td>0.0</td>\n",
       "      <td>0.0</td>\n",
       "      <td>0.0</td>\n",
       "      <td>0.0</td>\n",
       "      <td>0.0</td>\n",
       "      <td>0.0</td>\n",
       "      <td>0.0</td>\n",
       "      <td>...</td>\n",
       "      <td>0.0</td>\n",
       "      <td>0.0</td>\n",
       "      <td>0.0</td>\n",
       "      <td>0.0</td>\n",
       "      <td>0.0</td>\n",
       "      <td>0.0</td>\n",
       "      <td>0.0</td>\n",
       "      <td>0.0</td>\n",
       "      <td>0.0</td>\n",
       "      <td>0.0</td>\n",
       "    </tr>\n",
       "    <tr>\n",
       "      <th>4</th>\n",
       "      <td>0.0</td>\n",
       "      <td>0.0</td>\n",
       "      <td>0.0</td>\n",
       "      <td>0.0</td>\n",
       "      <td>0.0</td>\n",
       "      <td>0.0</td>\n",
       "      <td>0.0</td>\n",
       "      <td>0.0</td>\n",
       "      <td>0.0</td>\n",
       "      <td>0.0</td>\n",
       "      <td>...</td>\n",
       "      <td>0.0</td>\n",
       "      <td>0.0</td>\n",
       "      <td>0.0</td>\n",
       "      <td>0.0</td>\n",
       "      <td>0.0</td>\n",
       "      <td>0.0</td>\n",
       "      <td>0.0</td>\n",
       "      <td>0.0</td>\n",
       "      <td>0.0</td>\n",
       "      <td>0.0</td>\n",
       "    </tr>\n",
       "  </tbody>\n",
       "</table>\n",
       "<p>5 rows × 784 columns</p>\n",
       "</div>"
      ],
      "text/plain": [
       "   pixel1  pixel2  pixel3  pixel4  pixel5  pixel6  pixel7  pixel8  pixel9  \\\n",
       "0     0.0     0.0     0.0     0.0     0.0     0.0     0.0     0.0     0.0   \n",
       "1     0.0     0.0     0.0     0.0     0.0     0.0     0.0     0.0     0.0   \n",
       "2     0.0     0.0     0.0     0.0     0.0     0.0     0.0     0.0     0.0   \n",
       "3     0.0     0.0     0.0     0.0     0.0     0.0     0.0     0.0     0.0   \n",
       "4     0.0     0.0     0.0     0.0     0.0     0.0     0.0     0.0     0.0   \n",
       "\n",
       "   pixel10  ...  pixel775  pixel776  pixel777  pixel778  pixel779  pixel780  \\\n",
       "0      0.0  ...       0.0       0.0       0.0       0.0       0.0       0.0   \n",
       "1      0.0  ...       0.0       0.0       0.0       0.0       0.0       0.0   \n",
       "2      0.0  ...       0.0       0.0       0.0       0.0       0.0       0.0   \n",
       "3      0.0  ...       0.0       0.0       0.0       0.0       0.0       0.0   \n",
       "4      0.0  ...       0.0       0.0       0.0       0.0       0.0       0.0   \n",
       "\n",
       "   pixel781  pixel782  pixel783  pixel784  \n",
       "0       0.0       0.0       0.0       0.0  \n",
       "1       0.0       0.0       0.0       0.0  \n",
       "2       0.0       0.0       0.0       0.0  \n",
       "3       0.0       0.0       0.0       0.0  \n",
       "4       0.0       0.0       0.0       0.0  \n",
       "\n",
       "[5 rows x 784 columns]"
      ]
     },
     "execution_count": 8,
     "metadata": {},
     "output_type": "execute_result"
    }
   ],
   "source": [
    "X.head()"
   ]
  },
  {
   "cell_type": "code",
   "execution_count": 9,
   "id": "7987df55-eb2d-4fa4-8f27-39f1cace60df",
   "metadata": {},
   "outputs": [
    {
     "name": "stdout",
     "output_type": "stream",
     "text": [
      "<class 'pandas.core.frame.DataFrame'>\n",
      "RangeIndex: 70000 entries, 0 to 69999\n",
      "Columns: 784 entries, pixel1 to pixel784\n",
      "dtypes: float64(784)\n",
      "memory usage: 418.7 MB\n"
     ]
    }
   ],
   "source": [
    "X.info()"
   ]
  },
  {
   "cell_type": "code",
   "execution_count": 10,
   "id": "a7434e58-ed9d-4a7b-b3eb-f8be531c7ca4",
   "metadata": {},
   "outputs": [
    {
     "data": {
      "text/plain": [
       "28.0"
      ]
     },
     "execution_count": 10,
     "metadata": {},
     "output_type": "execute_result"
    }
   ],
   "source": [
    "np.sqrt(784)"
   ]
  },
  {
   "cell_type": "code",
   "execution_count": 11,
   "id": "ccb341b1-cebb-4097-857b-dae94f64c4a0",
   "metadata": {},
   "outputs": [
    {
     "data": {
      "text/plain": [
       "(0.0, 255.0)"
      ]
     },
     "execution_count": 11,
     "metadata": {},
     "output_type": "execute_result"
    }
   ],
   "source": [
    "X.iloc[0].min(), X.iloc[0].max()"
   ]
  },
  {
   "cell_type": "code",
   "execution_count": 12,
   "id": "870c72b3-ef39-42cb-bf96-3eeb1ff5d86b",
   "metadata": {},
   "outputs": [],
   "source": [
    "# create a function to plot a random image\n",
    "def plot_random_image(X,y,num_images=5):\n",
    "    '''\n",
    "        Function that plots random greyscale images in X with corresponding label in y.\n",
    "        How many images should be plot can be specified with the num_images parameter. Default to 5.\n",
    "    '''\n",
    "    if num_images % 5 == 0:\n",
    "        nrows = num_images // 5\n",
    "    else:\n",
    "        nrows = num_images // 5 + 1\n",
    "    fig, axes = plt.subplots(nrows=nrows,  ncols=num_images if num_images <= 5 else 5,figsize=(10,7))\n",
    "\n",
    "    for i in range(num_images):\n",
    "        if num_images == 1:\n",
    "            ax = axes\n",
    "        elif (num_images > 1) and (num_images <= 5):\n",
    "            ax = axes[i]\n",
    "        else:\n",
    "            ax = axes[i//5,i%5]\n",
    "        \n",
    "        # get a random integer between 0 and the max number of available pictures\n",
    "        random_int = random.randint(0,X.shape[0]-1)\n",
    "\n",
    "        # plot the picture using matplotlib imshow function with corresponding label\n",
    "        ax.imshow(X.iloc[random_int].values.reshape(28,28), cmap='gray',vmin=0,vmax=255)\n",
    "        ax.title.set_text(\"Image with label \" + y.iloc[random_int])\n",
    "\n",
    "        # hide axis\n",
    "        ax.axis(False)\n",
    "    # remove unused axes\n",
    "    if num_images > 1:\n",
    "        for ax in axes.flat[num_images:]:\n",
    "            ax.remove()\n",
    "    \n",
    "    plt.tight_layout(pad=1)\n",
    "    plt.show()"
   ]
  },
  {
   "cell_type": "code",
   "execution_count": 13,
   "id": "383f72f7-51cf-4703-b37b-a5d68bb21dde",
   "metadata": {},
   "outputs": [
    {
     "data": {
      "image/png": "[encoded data removed]",
      "text/plain": [
       "<Figure size 720x504 with 10 Axes>"
      ]
     },
     "metadata": {
      "needs_background": "light"
     },
     "output_type": "display_data"
    }
   ],
   "source": [
    "plot_random_image(X,y,num_images=10)"
   ]
  },
  {
   "cell_type": "code",
   "execution_count": 14,
   "id": "31474c37-a980-4230-96e9-21d02c3ab430",
   "metadata": {},
   "outputs": [
    {
     "data": {
      "image/png": "[encoded data removed]",
      "text/plain": [
       "<Figure size 720x504 with 1 Axes>"
      ]
     },
     "metadata": {
      "needs_background": "light"
     },
     "output_type": "display_data"
    }
   ],
   "source": [
    "np.round(y.value_counts()/len(y)*100,2).plot(kind='barh',figsize=(10,7),style='ggplot')\n",
    "plt.xlabel('Percentage of occurances',fontsize=15)\n",
    "plt.ylabel('Label',fontsize=15)\n",
    "plt.show()"
   ]
  },
  {
   "cell_type": "markdown",
   "id": "2d7da4e1-eb08-4953-aea0-88ad722bcfae",
   "metadata": {},
   "source": [
    "# Create train and testsplits"
   ]
  },
  {
   "cell_type": "code",
   "execution_count": 15,
   "id": "0454ed1c-4362-4a38-b98d-a6ca2899c063",
   "metadata": {},
   "outputs": [],
   "source": [
    "X_train, X_test, y_train, y_test = train_test_split(X,y,test_size=0.2)"
   ]
  },
  {
   "cell_type": "code",
   "execution_count": 16,
   "id": "ec1711d3-c62b-46a8-b308-b45da8eb080f",
   "metadata": {},
   "outputs": [
    {
     "data": {
      "text/plain": [
       "(56000, 56000, 14000, 14000)"
      ]
     },
     "execution_count": 16,
     "metadata": {},
     "output_type": "execute_result"
    }
   ],
   "source": [
    "len(X_train), len(y_train), len(X_test), len(y_test)"
   ]
  },
  {
   "cell_type": "markdown",
   "id": "ac86bb70-7d1f-47ee-9599-233243ca2219",
   "metadata": {},
   "source": [
    "## Check if distribution of labels is the same in train and test splits"
   ]
  },
  {
   "cell_type": "code",
   "execution_count": 17,
   "id": "429828f1-0da2-41c8-a316-e2419cd6a761",
   "metadata": {},
   "outputs": [
    {
     "data": {
      "image/png": "[encoded data removed]",
      "text/plain": [
       "<Figure size 720x504 with 1 Axes>"
      ]
     },
     "metadata": {
      "needs_background": "light"
     },
     "output_type": "display_data"
    }
   ],
   "source": [
    "np.round(y_train.value_counts()/len(y_train)*100,2).plot(kind='barh',figsize=(10,7),style='ggplot')\n",
    "plt.xlabel('Percentage of occurances',fontsize=15)\n",
    "plt.ylabel('Label',fontsize=15)\n",
    "plt.show()"
   ]
  },
  {
   "cell_type": "code",
   "execution_count": 18,
   "id": "c356cc4c-a46b-4f00-b490-158a8efad06c",
   "metadata": {},
   "outputs": [
    {
     "data": {
      "image/png": "[encoded data removed]",
      "text/plain": [
       "<Figure size 720x504 with 1 Axes>"
      ]
     },
     "metadata": {
      "needs_background": "light"
     },
     "output_type": "display_data"
    }
   ],
   "source": [
    "np.round(y_test.value_counts()/len(y_test)*100,2).plot(kind='barh',figsize=(10,7),style='ggplot')\n",
    "plt.xlabel('Percentage of occurances',fontsize=15)\n",
    "plt.ylabel('Label',fontsize=15)\n",
    "plt.show()"
   ]
  },
  {
   "cell_type": "code",
   "execution_count": 19,
   "id": "332b4468-71a9-4979-9b27-417e3ffc198b",
   "metadata": {},
   "outputs": [],
   "source": [
    "# define the knc classifier with default values\n",
    "knc_clf = knc()\n",
    "\n",
    "# fit the model\n",
    "knc_clf.fit(X_train,y_train)\n",
    "\n",
    "# evaluate the model\n",
    "knc_score = knc_clf.score(X_test,y_test)"
   ]
  },
  {
   "cell_type": "code",
   "execution_count": 20,
   "id": "c190bd7c-80bb-47bb-8e99-d7ecfa81f2e6",
   "metadata": {},
   "outputs": [
    {
     "data": {
      "text/plain": [
       "0.9689285714285715"
      ]
     },
     "execution_count": 20,
     "metadata": {},
     "output_type": "execute_result"
    }
   ],
   "source": [
    "knc_score"
   ]
  },
  {
   "cell_type": "markdown",
   "id": "cba4b5ef-ea64-44c1-bbc3-d27aa825f962",
   "metadata": {},
   "source": [
    "# Hyperparamter tuning"
   ]
  },
  {
   "cell_type": "code",
   "execution_count": 93,
   "id": "fdb693f3-8be1-41a4-8ebe-457ae23ccda5",
   "metadata": {},
   "outputs": [],
   "source": [
    "# fit the knc classifier with default values\n",
    "knc_clf = knc()"
   ]
  },
  {
   "cell_type": "code",
   "execution_count": 94,
   "id": "77d3f450-94e6-48d4-8353-25606eef88aa",
   "metadata": {},
   "outputs": [],
   "source": [
    "# define the parameter space\n",
    "parameters = {'n_neighbors':[3,5,10], 'weights':['uniform', 'distance']}\n",
    "\n",
    "# define the gridsearched clf with paramters\n",
    "clf = GridSearchCV(knc_clf, parameters)"
   ]
  },
  {
   "cell_type": "code",
   "execution_count": 95,
   "id": "c78973fb-de29-46d1-aaea-855873c598e1",
   "metadata": {},
   "outputs": [
    {
     "data": {
      "text/plain": [
       "GridSearchCV(estimator=KNeighborsClassifier(),\n",
       "             param_grid={'n_neighbors': [3, 5, 10],\n",
       "                         'weights': ['uniform', 'distance']})"
      ]
     },
     "execution_count": 95,
     "metadata": {},
     "output_type": "execute_result"
    }
   ],
   "source": [
    "# fit the clf to find best paramters\n",
    "clf.fit(X_train,y_train)"
   ]
  },
  {
   "cell_type": "code",
   "execution_count": 96,
   "id": "2103d7d5-4d31-48c9-b690-2817a599756f",
   "metadata": {},
   "outputs": [
    {
     "data": {
      "text/plain": [
       "{'n_neighbors': 3, 'weights': 'distance'}"
      ]
     },
     "execution_count": 96,
     "metadata": {},
     "output_type": "execute_result"
    }
   ],
   "source": [
    "# get the best combination of parameters\n",
    "clf.best_params_"
   ]
  },
  {
   "cell_type": "code",
   "execution_count": 97,
   "id": "9e7218e4-1639-4fce-aa24-69a0c53bc0ef",
   "metadata": {},
   "outputs": [],
   "source": [
    "# get the best estimator of gridsearch\n",
    "best_clf = clf.best_estimator_"
   ]
  },
  {
   "cell_type": "code",
   "execution_count": 98,
   "id": "0de83018-1d32-4598-bae9-91468d22aa69",
   "metadata": {},
   "outputs": [
    {
     "data": {
      "text/plain": [
       "0.9722142857142857"
      ]
     },
     "execution_count": 98,
     "metadata": {},
     "output_type": "execute_result"
    }
   ],
   "source": [
    "# evaluate the best estimator on the test set\n",
    "best_clf.score(X_test, y_test)"
   ]
  },
  {
   "cell_type": "markdown",
   "id": "e19a6109-616e-46aa-910e-03133a9fe40a",
   "metadata": {},
   "source": [
    "# Call the function for data augmentation from Exercise02.ipynb"
   ]
  },
  {
   "cell_type": "code",
   "execution_count": 21,
   "id": "83608bb3-d128-4cb4-bac4-e33a44d61d0c",
   "metadata": {},
   "outputs": [
    {
     "data": {
      "text/plain": [
       "((70000, 784), (70000,))"
      ]
     },
     "execution_count": 21,
     "metadata": {},
     "output_type": "execute_result"
    }
   ],
   "source": [
    "X.shape, y.shape"
   ]
  },
  {
   "cell_type": "code",
   "execution_count": 22,
   "id": "3d30e61b-ffe9-401c-beef-1a7fb34b2e7a",
   "metadata": {},
   "outputs": [
    {
     "data": {
      "text/plain": [
       "'2'"
      ]
     },
     "execution_count": 22,
     "metadata": {},
     "output_type": "execute_result"
    }
   ],
   "source": [
    "y_train.iloc[0]"
   ]
  },
  {
   "cell_type": "code",
   "execution_count": 23,
   "id": "de24f05f-b717-4c9d-9dfe-a03826352ed5",
   "metadata": {},
   "outputs": [
    {
     "data": {
      "text/plain": [
       "56000"
      ]
     },
     "execution_count": 23,
     "metadata": {},
     "output_type": "execute_result"
    }
   ],
   "source": [
    "len(X_train)"
   ]
  },
  {
   "cell_type": "code",
   "execution_count": 56,
   "id": "04316a7e-5401-4466-839a-607e771e8642",
   "metadata": {},
   "outputs": [],
   "source": [
    "# function that was written in Exercise02.ipynb\n",
    "# for shifting the image\n",
    "from scipy.ndimage import shift\n",
    "\n",
    "def get_shifted_images(img,shift_by=1):\n",
    "    \"\"\"\n",
    "        Function that returns 4 shifted version of the passed image, #shift pixel shifted in each direction and reshaped. \n",
    "    \"\"\"\n",
    "    return([shift(img,[shift_by,0]).astype(int).reshape(1,-1),\n",
    "           shift(img,[0,shift_by]).astype(int).reshape(1,-1),\n",
    "           shift(img,[-shift_by,0]).astype(int).reshape(1,-1),\n",
    "           shift(img,[0,-shift_by]).astype(int).reshape(1,-1)])"
   ]
  },
  {
   "cell_type": "markdown",
   "id": "60455671-17e1-4e33-b868-cc30320cb717",
   "metadata": {},
   "source": [
    "Use [Joblib](https://stackoverflow.com/questions/61960177/how-to-use-joblib-parallel-to-parallelize-a-loop-with-some-continue-in-it) for Multiprocessing to speed up data augmentation time"
   ]
  },
  {
   "cell_type": "code",
   "execution_count": 29,
   "id": "fcacc9ae-f55a-4eea-b493-f6ab20373aa5",
   "metadata": {},
   "outputs": [],
   "source": [
    "from math import sqrt\n",
    "from joblib import Parallel, delayed"
   ]
  },
  {
   "cell_type": "code",
   "execution_count": 102,
   "id": "4d59bf56-3dd8-44b0-b465-88a3ff16bf19",
   "metadata": {},
   "outputs": [
    {
     "name": "stdout",
     "output_type": "stream",
     "text": [
      "CPU times: user 17.1 s, sys: 32.3 ms, total: 17.1 s\n",
      "Wall time: 17.1 s\n"
     ]
    }
   ],
   "source": [
    "%%time\n",
    "# we can clearly see normal looping is much slower\n",
    "for i in range(len(X_train)):\n",
    "    get_shifted_images(X_train.iloc[i].values.reshape(28,28))"
   ]
  },
  {
   "cell_type": "code",
   "execution_count": 103,
   "id": "81923d76-eb30-4f95-bf46-1cf60f5a81dc",
   "metadata": {},
   "outputs": [
    {
     "name": "stdout",
     "output_type": "stream",
     "text": [
      "CPU times: user 2.76 s, sys: 4.92 s, total: 7.68 s\n",
      "Wall time: 12.2 s\n"
     ]
    }
   ],
   "source": [
    "%%time\n",
    "shifted_images_all_directions = Parallel(n_jobs=2)(delayed(get_shifted_images)(X_train.iloc[i].values.reshape(28,28)) for i in range(len(X_train)))"
   ]
  },
  {
   "cell_type": "code",
   "execution_count": 104,
   "id": "0c854f06-3254-45fd-93b1-a6df45305645",
   "metadata": {},
   "outputs": [],
   "source": [
    "shifted_images_all_directions_reshaped = np.array(shifted_images_all_directions).reshape(-1,784)"
   ]
  },
  {
   "cell_type": "code",
   "execution_count": 105,
   "id": "aa294e17-b435-42ba-9716-b47c21eaaa33",
   "metadata": {},
   "outputs": [],
   "source": [
    "y_augmented_labels = []"
   ]
  },
  {
   "cell_type": "code",
   "execution_count": 106,
   "id": "47eb3d28-7f16-458e-977c-b8699fc52b0c",
   "metadata": {},
   "outputs": [],
   "source": [
    "for i in range(len(y_train)):\n",
    "    y_augmented_labels.append([y_train.iloc[i]]*4) "
   ]
  },
  {
   "cell_type": "code",
   "execution_count": 107,
   "id": "f82828e6-5f15-4527-a636-dbc27b2f5cbb",
   "metadata": {},
   "outputs": [],
   "source": [
    "y_augmented_labels_reshaped = np.array(y_augmented_labels).reshape(-1)"
   ]
  },
  {
   "cell_type": "code",
   "execution_count": 109,
   "id": "0c9c9997-c982-498b-a188-304d02fe4af8",
   "metadata": {},
   "outputs": [
    {
     "data": {
      "text/plain": [
       "(224000, 224000)"
      ]
     },
     "execution_count": 109,
     "metadata": {},
     "output_type": "execute_result"
    }
   ],
   "source": [
    "len(shifted_images_all_directions_reshaped), len(y_augmented_labels_reshaped)"
   ]
  },
  {
   "cell_type": "code",
   "execution_count": 130,
   "id": "eeac47a0-15db-439c-aabb-2b97b54b0c34",
   "metadata": {},
   "outputs": [],
   "source": [
    "X_train_augmented = pd.DataFrame(shifted_images_all_directions_reshaped,columns=X.columns)\n",
    "y_train_augmented = pd.Series(y_augmented_labels_reshaped)"
   ]
  },
  {
   "cell_type": "code",
   "execution_count": 131,
   "id": "c5a7132f-63e8-4927-9f89-8e29fb6548fa",
   "metadata": {},
   "outputs": [],
   "source": [
    "X_train_augmented_shuffled = X_train_augmented.sample(len(X_train_augmented),random_state=711)\n",
    "y_train_augmented_shuffled = y_train_augmented.sample(len(y_train_augmented),random_state=711)"
   ]
  },
  {
   "cell_type": "code",
   "execution_count": 132,
   "id": "af630587-e51d-455a-b743-9b8b0b415368",
   "metadata": {},
   "outputs": [
    {
     "data": {
      "image/png": "[encoded data removed]",
      "text/plain": [
       "<Figure size 720x504 with 15 Axes>"
      ]
     },
     "metadata": {
      "needs_background": "light"
     },
     "output_type": "display_data"
    }
   ],
   "source": [
    "# check if labelling worked\n",
    "plot_random_image(X_train_augmented_shuffled,y_train_augmented_shuffled,15)"
   ]
  },
  {
   "cell_type": "code",
   "execution_count": 133,
   "id": "f043f4b7-8ccb-409b-972a-4c8608922146",
   "metadata": {},
   "outputs": [],
   "source": [
    "# define the knc classifier with default values\n",
    "knc_clf = knc(n_neighbors=3,weights='distance')\n",
    "\n",
    "# fit the model\n",
    "knc_clf.fit(X_train_augmented,y_train_augmented)\n",
    "\n",
    "# evaluate the model\n",
    "knc_score = knc_clf.score(X_test,y_test)"
   ]
  },
  {
   "cell_type": "code",
   "execution_count": 140,
   "id": "b790f917-84bf-4002-ae16-b5eaa29d17ee",
   "metadata": {},
   "outputs": [
    {
     "data": {
      "text/plain": [
       "0.9773571428571428"
      ]
     },
     "execution_count": 140,
     "metadata": {},
     "output_type": "execute_result"
    }
   ],
   "source": [
    "knc_score"
   ]
  },
  {
   "cell_type": "code",
   "execution_count": null,
   "id": "b3c521de-de2c-4d16-ad48-5663449953ae",
   "metadata": {},
   "outputs": [],
   "source": []
  }
 ],
 "metadata": {
  "kernelspec": {
   "display_name": "Python 3 (ipykernel)",
   "language": "python",
   "name": "python3"
  },
  "language_info": {
   "codemirror_mode": {
    "name": "ipython",
    "version": 3
   },
   "file_extension": ".py",
   "mimetype": "text/x-python",
   "name": "python",
   "nbconvert_exporter": "python",
   "pygments_lexer": "ipython3",
   "version": "3.9.5"
  },
  "toc-autonumbering": true
 },
 "nbformat": 4,
 "nbformat_minor": 5
}
